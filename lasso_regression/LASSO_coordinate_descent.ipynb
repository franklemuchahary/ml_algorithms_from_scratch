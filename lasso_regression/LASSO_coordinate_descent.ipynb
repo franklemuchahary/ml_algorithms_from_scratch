{
 "cells": [
  {
   "cell_type": "markdown",
   "metadata": {},
   "source": [
    "# LASSO using Coordinate Descent"
   ]
  },
  {
   "cell_type": "code",
   "execution_count": 171,
   "metadata": {
    "collapsed": false
   },
   "outputs": [],
   "source": [
    "import pandas as pd\n",
    "import numpy as np"
   ]
  },
  {
   "cell_type": "code",
   "execution_count": 169,
   "metadata": {
    "collapsed": false
   },
   "outputs": [],
   "source": [
    "\n",
    "dtype_dict = {'bathrooms':float, 'waterfront':int, 'sqft_above':int, 'sqft_living15':float, \n",
    "              'grade':int, 'yr_renovated':int, 'price':float, 'bedrooms':float, 'zipcode':str, \n",
    "              'long':float, 'sqft_lot15':float, 'sqft_living':float, 'floors':float, 'condition':int, \n",
    "              'lat':float, 'date':str, 'sqft_basement':int, 'yr_built':int, \n",
    "              'id':str, 'sqft_lot':int, 'view':int}\n",
    "\n",
    "sales = pd.read_csv('kc_house_data.csv', dtype = dtype_dict)\n",
    "train = pd.read_csv('kc_house_train_data.csv', dtype=dtype_dict)\n",
    "test = pd.read_csv('kc_house_test_data.csv', dtype=dtype_dict)"
   ]
  },
  {
   "cell_type": "markdown",
   "metadata": {},
   "source": [
    "## convert dataframe into matrix"
   ]
  },
  {
   "cell_type": "code",
   "execution_count": 170,
   "metadata": {
    "collapsed": true
   },
   "outputs": [],
   "source": [
    "#convert into a matrix\n",
    "def convert_into_numpy_matrix(data_frame, features, output):\n",
    "    data_frame['constant'] = 1\n",
    "    features = ['constant'] + features\n",
    "    features_df = data_frame[features]\n",
    "    feature_matrix = features_df.as_matrix()\n",
    "    output_df = data_frame[output]\n",
    "    return (feature_matrix, output_df)\n",
    "\n",
    "#predicting outputs\n",
    "def predict_output(features, weights):\n",
    "    predictions = np.dot(features, weights)\n",
    "    return predictions"
   ]
  },
  {
   "cell_type": "markdown",
   "metadata": {},
   "source": [
    "## normalizing the features matrix"
   ]
  },
  {
   "cell_type": "code",
   "execution_count": 131,
   "metadata": {
    "collapsed": true
   },
   "outputs": [],
   "source": [
    "#nomalizing features\n",
    "def normalize_features(feature_matrix):\n",
    "    norms = np.linalg.norm(feature_matrix, axis=0)\n",
    "    normalized_features = feature_matrix/norms\n",
    "    return (normalized_features, norms)"
   ]
  },
  {
   "cell_type": "code",
   "execution_count": 133,
   "metadata": {
    "collapsed": false
   },
   "outputs": [
    {
     "name": "stdout",
     "output_type": "stream",
     "text": [
      "[[ 0.6  0.6  0.6]\n",
      " [ 0.8  0.8  0.8]]\n",
      "[  5.  10.  15.]\n"
     ]
    }
   ],
   "source": [
    "#testing the normalize_features() function\n",
    "features, norms = normalize_features(np.array([[3.,6.,9.],[4.,8.,12.]]))\n",
    "print features\n",
    "# should print\n",
    "# [[ 0.6  0.6  0.6]\n",
    "#  [ 0.8  0.8  0.8]]\n",
    "print norms\n",
    "# should print\n",
    "# [5.  10.  15.]"
   ]
  },
  {
   "cell_type": "code",
   "execution_count": 82,
   "metadata": {
    "collapsed": false
   },
   "outputs": [],
   "source": [
    "#simple model with 2 features\n",
    "simple_features = ['sqft_living', 'bedrooms']\n",
    "(simple_features_matrix, op) = convert_into_numpy_matrix(sales, simple_features, 'price')\n",
    "(simple_features_matrix, norms_simple_matrix) = normalize_features(simple_features_matrix) \n",
    "\n",
    "initial_weights = np.array([1., 4., 1.])\n",
    "predictions1 = predict_output(simple_features_matrix, initial_weights)"
   ]
  },
  {
   "cell_type": "raw",
   "metadata": {},
   "source": [
    "We now need to implement the following part:\n",
    "\n",
    "       ┌ (rho[i] + lambda/2)    if rho[i] < -lambda/2\n",
    "w[i] = ├ 0                      if -lambda/2 <= rho[i] <= lambda/2\n",
    "       └ (rho[i] - lambda/2)    if rho[i] > lambda/2\n",
    "\n",
    "rho[i] = SUM[ [feature_i]*(output - prediction + w[i]*[feature_i]) ]"
   ]
  },
  {
   "cell_type": "markdown",
   "metadata": {},
   "source": [
    "## function to calcuate value of rho"
   ]
  },
  {
   "cell_type": "code",
   "execution_count": 83,
   "metadata": {
    "collapsed": true
   },
   "outputs": [],
   "source": [
    "#calculate value of rho\n",
    "def calculate_rho(features_matrix, output, weights, i):\n",
    "    predictions = predict_output(features_matrix, initial_weights)\n",
    "    feature_i = features_matrix[:, i]\n",
    "    temp = (output-predictions)+(weights[i]*feature_i) \n",
    "    rho_i = sum(feature_i*temp)\n",
    "    return rho_i"
   ]
  },
  {
   "cell_type": "code",
   "execution_count": 90,
   "metadata": {
    "collapsed": false
   },
   "outputs": [
    {
     "name": "stdout",
     "output_type": "stream",
     "text": [
      " rho1:  8.79E+07 & rho2:  8.10E+07\n",
      "rho1:  87939470.8233 & rho2:  80966698.6662\n"
     ]
    }
   ],
   "source": [
    "from decimal import Decimal\n",
    "\n",
    "\n",
    "rho_1 = calculate_rho(simple_features_matrix, op, initial_weights, 1)\n",
    "rho_2 = calculate_rho(simple_features_matrix, op, initial_weights, 2)\n",
    "print 'rho1: ', '%.2E' % Decimal(rho_1), \"& rho2: \",'%.2E' % Decimal(rho_2)\n",
    "print 'rho1: ',rho_1, \"& rho2: \",rho_2"
   ]
  },
  {
   "cell_type": "markdown",
   "metadata": {},
   "source": [
    "## lasso coordinate descent"
   ]
  },
  {
   "cell_type": "code",
   "execution_count": 8,
   "metadata": {
    "collapsed": true
   },
   "outputs": [],
   "source": [
    "#calculate value of rho with predictions\n",
    "def calculate_rho2(features_matrix, output, weights, i, predictions):\n",
    "    feature_i = features_matrix[:, i]\n",
    "    temp = (output-predictions)+(weights[i]*feature_i) \n",
    "    rho_i = sum(feature_i*temp)\n",
    "    return rho_i\n",
    "\n",
    "#lasso coordinate descent algo\n",
    "def lasso_coordinate_descent_step(i, feature_matrix, output, weights, l1_penalty):\n",
    "    predictions = predict_output(feature_matrix, weights)\n",
    "    rho_i = calculate_rho2(feature_matrix, output, weights, i, predictions)\n",
    "    \n",
    "    if i == 0:\n",
    "        new_weight_i = rho_i\n",
    "    elif rho_i < (-l1_penalty/2):\n",
    "        new_weight_i = rho_i + (l1_penalty/2)\n",
    "    elif rho_i > l1_penalty/2:\n",
    "        new_weight_i = rho_i - (l1_penalty/2)\n",
    "    else:\n",
    "        new_weight_i = 0\n",
    "        \n",
    "    return new_weight_i"
   ]
  },
  {
   "cell_type": "code",
   "execution_count": 130,
   "metadata": {
    "collapsed": false
   },
   "outputs": [
    {
     "name": "stdout",
     "output_type": "stream",
     "text": [
      "0.425558846691\n"
     ]
    }
   ],
   "source": [
    "#testing the lasso coordinate descent algo\n",
    "# should print 0.425558846691\n",
    "import math\n",
    "print lasso_coordinate_descent_step(1, np.array([[3./math.sqrt(13),1./math.sqrt(10)],\n",
    "                   [2./math.sqrt(13),3./math.sqrt(10)]]), np.array([1., 1.]), np.array([1., 4.]), 0.1)"
   ]
  },
  {
   "cell_type": "markdown",
   "metadata": {},
   "source": [
    "## lasso cyclic coordinate descent"
   ]
  },
  {
   "cell_type": "code",
   "execution_count": 10,
   "metadata": {
    "collapsed": false
   },
   "outputs": [],
   "source": [
    "def lasso_cyclical_coordinate_descent(feature_matrix, output, initial_weights, l1_penalty, tolerance):\n",
    "    weights = initial_weights\n",
    "    max_weights_change = tolerance\n",
    "    while(max_weights_change >= tolerance):\n",
    "        max_weights_change = 0\n",
    "        for i in range(len(weights)):\n",
    "            old_weights_i = weights[i]\n",
    "            weights[i] = lasso_coordinate_descent_step(i, feature_matrix, output, weights, l1_penalty)\n",
    "            weights_change = abs(old_weights_i - weights[i])\n",
    "            \n",
    "            if weights_change > max_weights_change:\n",
    "                max_weights_change = weights_change\n",
    "    return weights   "
   ]
  },
  {
   "cell_type": "code",
   "execution_count": 11,
   "metadata": {
    "collapsed": false
   },
   "outputs": [],
   "source": [
    "simple_features = ['sqft_living', 'bedrooms']\n",
    "my_output = 'price'\n",
    "l1_penalty = 1e7\n",
    "tolerance = 1.0\n",
    "initial_weights = np.zeros(3)"
   ]
  },
  {
   "cell_type": "code",
   "execution_count": 134,
   "metadata": {
    "collapsed": false
   },
   "outputs": [],
   "source": [
    "simple_feature_matrix, output = convert_into_numpy_matrix(sales, simple_features, my_output)\n",
    "normalized_simple_feature_matrix, normalizers = normalize_features(simple_features_matrix)\n",
    "weights = lasso_cyclical_coordinate_descent(normalized_simple_feature_matrix, output, initial_weights, l1_penalty,tolerance)"
   ]
  },
  {
   "cell_type": "code",
   "execution_count": 13,
   "metadata": {
    "collapsed": false
   },
   "outputs": [
    {
     "data": {
      "text/plain": [
       "array([ 21624997.95951863,  63157247.20788987,         0.        ])"
      ]
     },
     "execution_count": 13,
     "metadata": {},
     "output_type": "execute_result"
    }
   ],
   "source": [
    "weights"
   ]
  },
  {
   "cell_type": "code",
   "execution_count": 14,
   "metadata": {
    "collapsed": false
   },
   "outputs": [
    {
     "data": {
      "text/plain": [
       "1630492476715377.2"
      ]
     },
     "execution_count": 14,
     "metadata": {},
     "output_type": "execute_result"
    }
   ],
   "source": [
    "predictions = predict_output(normalized_simple_feature_matrix, weights)\n",
    "diff = predictions-output\n",
    "rss1 = sum(diff**2)\n",
    "rss1"
   ]
  },
  {
   "cell_type": "markdown",
   "metadata": {},
   "source": [
    "## lasso with more features"
   ]
  },
  {
   "cell_type": "code",
   "execution_count": 190,
   "metadata": {
    "collapsed": false
   },
   "outputs": [],
   "source": [
    "all_features = ['bedrooms',\n",
    "                'bathrooms',\n",
    "                'sqft_living',\n",
    "                'sqft_lot',\n",
    "                'floors',\n",
    "                'waterfront', \n",
    "                'view', \n",
    "                'condition', \n",
    "                'grade',\n",
    "                'sqft_above',\n",
    "                'sqft_basement',\n",
    "                'yr_built', \n",
    "                'yr_renovated']\n",
    "\n",
    "my_l1_penalty1 = 1e7\n",
    "my_l1_penalty2 = 1e8\n",
    "my_initial_weights = np.zeros(len(all_features)+1)\n",
    "\n",
    "(all_features_matrix, train_output) = convert_into_numpy_matrix(train, all_features, my_output)\n",
    "normalized_all_features_matrix, train_norms = normalize_features(all_features_matrix)\n",
    "weights1e7 = lasso_cyclical_coordinate_descent(normalized_all_features_matrix, train_output, my_initial_weights, \n",
    "                                               my_l1_penalty1, tolerance)"
   ]
  },
  {
   "cell_type": "code",
   "execution_count": 194,
   "metadata": {
    "collapsed": false
   },
   "outputs": [],
   "source": [
    "normalized_weights1e7 = weights1e7/train_norms\n",
    "normalized_weights1e7\n",
    "my_df = pd.DataFrame(['const','bedrooms', 'bathrooms', 'sqft_living', 'sqft_lot','waterfront','floors',\n",
    "                'view', 'condition', 'grade', 'sqft_above', 'sqft_basement', 'yr_built', 'yr_renovated'])\n",
    "my_df['1e7'] = pd.DataFrame(normalized_weights1e7)"
   ]
  },
  {
   "cell_type": "code",
   "execution_count": 195,
   "metadata": {
    "collapsed": false
   },
   "outputs": [],
   "source": [
    "weights1e8 = lasso_cyclical_coordinate_descent(normalized_all_features_matrix, train_output, my_initial_weights,\n",
    "                                              my_l1_penalty2, tolerance)\n",
    "normalized_weights1e8 = weights1e8/train_norms\n",
    "normalized_weights1e8\n",
    "my_df['1e8'] = pd.DataFrame(normalized_weights1e8)"
   ]
  },
  {
   "cell_type": "code",
   "execution_count": 196,
   "metadata": {
    "collapsed": false
   },
   "outputs": [],
   "source": [
    "my_l1_penalty3 = 1e4\n",
    "my_tolerance = 5e5\n",
    "weights1e4 = lasso_cyclical_coordinate_descent(normalized_all_features_matrix, train_output, my_initial_weights,\n",
    "                                              my_l1_penalty3, my_tolerance)\n",
    "normalized_weights1e4 = weights1e4/train_norms\n",
    "normalized_weights1e4\n",
    "my_df['1e4'] = pd.DataFrame(normalized_weights1e4)"
   ]
  },
  {
   "cell_type": "code",
   "execution_count": 197,
   "metadata": {
    "collapsed": false
   },
   "outputs": [
    {
     "data": {
      "text/html": [
       "<div>\n",
       "<table border=\"1\" class=\"dataframe\">\n",
       "  <thead>\n",
       "    <tr style=\"text-align: right;\">\n",
       "      <th></th>\n",
       "      <th>0</th>\n",
       "      <th>1e7</th>\n",
       "      <th>1e8</th>\n",
       "      <th>1e4</th>\n",
       "    </tr>\n",
       "  </thead>\n",
       "  <tbody>\n",
       "    <tr>\n",
       "      <th>0</th>\n",
       "      <td>const</td>\n",
       "      <td>185285.529773</td>\n",
       "      <td>539366.627934</td>\n",
       "      <td>595871.771352</td>\n",
       "    </tr>\n",
       "    <tr>\n",
       "      <th>1</th>\n",
       "      <td>bedrooms</td>\n",
       "      <td>0.000000</td>\n",
       "      <td>0.000000</td>\n",
       "      <td>-48033.624395</td>\n",
       "    </tr>\n",
       "    <tr>\n",
       "      <th>2</th>\n",
       "      <td>bathrooms</td>\n",
       "      <td>0.000000</td>\n",
       "      <td>0.000000</td>\n",
       "      <td>43089.264287</td>\n",
       "    </tr>\n",
       "    <tr>\n",
       "      <th>3</th>\n",
       "      <td>sqft_living</td>\n",
       "      <td>161.317458</td>\n",
       "      <td>0.000000</td>\n",
       "      <td>312.732803</td>\n",
       "    </tr>\n",
       "    <tr>\n",
       "      <th>4</th>\n",
       "      <td>sqft_lot</td>\n",
       "      <td>0.000000</td>\n",
       "      <td>0.000000</td>\n",
       "      <td>-0.346079</td>\n",
       "    </tr>\n",
       "    <tr>\n",
       "      <th>5</th>\n",
       "      <td>waterfront</td>\n",
       "      <td>0.000000</td>\n",
       "      <td>0.000000</td>\n",
       "      <td>-20143.266355</td>\n",
       "    </tr>\n",
       "    <tr>\n",
       "      <th>6</th>\n",
       "      <td>floors</td>\n",
       "      <td>287664.704847</td>\n",
       "      <td>0.000000</td>\n",
       "      <td>562133.763794</td>\n",
       "    </tr>\n",
       "    <tr>\n",
       "      <th>7</th>\n",
       "      <td>view</td>\n",
       "      <td>69193.704071</td>\n",
       "      <td>0.000000</td>\n",
       "      <td>67281.632513</td>\n",
       "    </tr>\n",
       "    <tr>\n",
       "      <th>8</th>\n",
       "      <td>condition</td>\n",
       "      <td>0.000000</td>\n",
       "      <td>0.000000</td>\n",
       "      <td>10925.588777</td>\n",
       "    </tr>\n",
       "    <tr>\n",
       "      <th>9</th>\n",
       "      <td>grade</td>\n",
       "      <td>0.000000</td>\n",
       "      <td>0.000000</td>\n",
       "      <td>14032.559805</td>\n",
       "    </tr>\n",
       "    <tr>\n",
       "      <th>10</th>\n",
       "      <td>sqft_above</td>\n",
       "      <td>0.000000</td>\n",
       "      <td>0.000000</td>\n",
       "      <td>-60.721416</td>\n",
       "    </tr>\n",
       "    <tr>\n",
       "      <th>11</th>\n",
       "      <td>sqft_basement</td>\n",
       "      <td>0.000000</td>\n",
       "      <td>0.000000</td>\n",
       "      <td>-73.579687</td>\n",
       "    </tr>\n",
       "    <tr>\n",
       "      <th>12</th>\n",
       "      <td>yr_built</td>\n",
       "      <td>0.000000</td>\n",
       "      <td>0.000000</td>\n",
       "      <td>-325.079490</td>\n",
       "    </tr>\n",
       "    <tr>\n",
       "      <th>13</th>\n",
       "      <td>yr_renovated</td>\n",
       "      <td>0.000000</td>\n",
       "      <td>0.000000</td>\n",
       "      <td>52.601160</td>\n",
       "    </tr>\n",
       "  </tbody>\n",
       "</table>\n",
       "</div>"
      ],
      "text/plain": [
       "                0            1e7            1e8            1e4\n",
       "0           const  185285.529773  539366.627934  595871.771352\n",
       "1        bedrooms       0.000000       0.000000  -48033.624395\n",
       "2       bathrooms       0.000000       0.000000   43089.264287\n",
       "3     sqft_living     161.317458       0.000000     312.732803\n",
       "4        sqft_lot       0.000000       0.000000      -0.346079\n",
       "5      waterfront       0.000000       0.000000  -20143.266355\n",
       "6          floors  287664.704847       0.000000  562133.763794\n",
       "7            view   69193.704071       0.000000   67281.632513\n",
       "8       condition       0.000000       0.000000   10925.588777\n",
       "9           grade       0.000000       0.000000   14032.559805\n",
       "10     sqft_above       0.000000       0.000000     -60.721416\n",
       "11  sqft_basement       0.000000       0.000000     -73.579687\n",
       "12       yr_built       0.000000       0.000000    -325.079490\n",
       "13   yr_renovated       0.000000       0.000000      52.601160"
      ]
     },
     "execution_count": 197,
     "metadata": {},
     "output_type": "execute_result"
    }
   ],
   "source": [
    "my_df"
   ]
  },
  {
   "cell_type": "markdown",
   "metadata": {},
   "source": [
    "## calculating rss of each model on test data"
   ]
  },
  {
   "cell_type": "code",
   "execution_count": 212,
   "metadata": {
    "collapsed": false
   },
   "outputs": [
    {
     "name": "stdout",
     "output_type": "stream",
     "text": [
      "RSS 1e7 Model:  1.35708586029e+15 \n",
      "\n",
      "RSS 1e8 Model:  1.2302852836e+15 \n",
      "\n",
      "RSS 1e4 Model:  1.52778184131e+15 \n",
      "\n"
     ]
    },
    {
     "data": {
      "text/plain": [
       "array([  5.95871771e+05,  -4.80336244e+04,   4.30892643e+04,\n",
       "         3.12732803e+02,  -3.46078585e-01,  -2.01432664e+04,\n",
       "         5.62133764e+05,   6.72816325e+04,   1.09255888e+04,\n",
       "         1.40325598e+04,  -6.07214159e+01,  -7.35796867e+01,\n",
       "        -3.25079490e+02,   5.26011603e+01])"
      ]
     },
     "execution_count": 212,
     "metadata": {},
     "output_type": "execute_result"
    }
   ],
   "source": [
    "test_features_matrix, test_output = convert_into_numpy_matrix(test, all_features, 'price')\n",
    "\n",
    "def calculate_rss(predictions):\n",
    "    residuals = predictions - test_output\n",
    "    rss = sum(predictions**2)\n",
    "    return rss\n",
    "\n",
    "predicitions1e7 = predict_output(test_features_matrix, normalized_weights1e7)\n",
    "print \"RSS 1e7 Model: \", calculate_rss(predicitions1e7), \"\\n\"\n",
    "\n",
    "predicitions1e8 = predict_output(test_features_matrix, normalized_weights1e8)\n",
    "print \"RSS 1e8 Model: \", calculate_rss(predicitions1e8), \"\\n\"\n",
    "\n",
    "predicitions1e4 = predict_output(test_features_matrix, normalized_weights1e4)\n",
    "print \"RSS 1e4 Model: \", calculate_rss(predicitions1e4), \"\\n\"\n",
    "\n",
    "normalized_weights1e4"
   ]
  }
 ],
 "metadata": {
  "kernelspec": {
   "display_name": "Python 2",
   "language": "python",
   "name": "python2"
  },
  "language_info": {
   "codemirror_mode": {
    "name": "ipython",
    "version": 2
   },
   "file_extension": ".py",
   "mimetype": "text/x-python",
   "name": "python",
   "nbconvert_exporter": "python",
   "pygments_lexer": "ipython2",
   "version": "2.7.13"
  }
 },
 "nbformat": 4,
 "nbformat_minor": 2
}
