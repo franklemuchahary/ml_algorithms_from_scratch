{
 "cells": [
  {
   "cell_type": "markdown",
   "metadata": {},
   "source": [
    "# k-Nearest Neighbors Regression to predict house prices"
   ]
  },
  {
   "cell_type": "code",
   "execution_count": 1,
   "metadata": {
    "collapsed": true
   },
   "outputs": [],
   "source": [
    "import numpy as np\n",
    "import pandas as pd"
   ]
  },
  {
   "cell_type": "code",
   "execution_count": 6,
   "metadata": {
    "collapsed": false
   },
   "outputs": [],
   "source": [
    "#loading the different sets of data training, test and validation sets\n",
    "dtype_dict = {'bathrooms':float, 'waterfront':int, 'sqft_above':int, 'sqft_living15':float, 'grade':int, 'yr_renovated':int, 'price':float, 'bedrooms':float, 'zipcode':str, 'long':float, 'sqft_lot15':float, 'sqft_living':float, 'floors':float, 'condition':int, 'lat':float, 'date':str, 'sqft_basement':int, 'yr_built':int, 'id':str, 'sqft_lot':int, 'view':int}\n",
    "\n",
    "sales = pd.read_csv(\"kc_house_data_small.csv\", dtype=dtype_dict)\n",
    "train = pd.read_csv(\"kc_house_data_small_train.csv\", dtype=dtype_dict)\n",
    "test = pd.read_csv(\"kc_house_data_small_test.csv\", dtype=dtype_dict)\n",
    "valid = pd.read_csv(\"kc_house_data_validation.csv\", dtype=dtype_dict)"
   ]
  },
  {
   "cell_type": "code",
   "execution_count": 10,
   "metadata": {
    "collapsed": true
   },
   "outputs": [],
   "source": [
    "#function to convert into numpy array\n",
    "\n",
    "def convert_into_numpy_matrix(data_frame, features, output):\n",
    "    data_frame['constant'] = 1\n",
    "    features = ['constant']+features\n",
    "    features_matrix = data_frame[features].as_matrix()\n",
    "    output_df = data_frame[output]\n",
    "    return (features_matrix, output_df)\n",
    "\n",
    "#function to normalize fetaures\n",
    "\n",
    "def normalize_fetaures(features_matrix):\n",
    "    norms = np.linalg.norm(features_matrix, axis=0)\n",
    "    normalized_features = features_matrix/norms\n",
    "    return(normalized_features, norms)"
   ]
  },
  {
   "cell_type": "code",
   "execution_count": 42,
   "metadata": {
    "collapsed": false
   },
   "outputs": [],
   "source": [
    "feature_list = ['bedrooms',  \n",
    "                'bathrooms',  \n",
    "                'sqft_living',  \n",
    "                'sqft_lot',  \n",
    "                'floors',\n",
    "                'waterfront',  \n",
    "                'view',  \n",
    "                'condition',  \n",
    "                'grade',  \n",
    "                'sqft_above',  \n",
    "                'sqft_basement',\n",
    "                'yr_built',  \n",
    "                'yr_renovated',  \n",
    "                'lat',  \n",
    "                'long',  \n",
    "                'sqft_living15',  \n",
    "                'sqft_lot15']\n",
    "\n",
    "#converting data into numpy matrices\n",
    "train_matrix, train_output = convert_into_numpy_matrix(train, feature_list, 'price')\n",
    "test_matrix, test_output = convert_into_numpy_matrix(test, feature_list, 'price')\n",
    "valid_matrix, valid_output = convert_into_numpy_matrix(valid, feature_list, 'price')\n",
    "\n",
    "#normalizing data\n",
    "normalized_train_matrix, norms = normalize_fetaures(train_matrix)\n",
    "normalized_test_matrix = test_matrix/norms\n",
    "normalized_valid_matrix = valid_matrix/norms"
   ]
  },
  {
   "cell_type": "code",
   "execution_count": 113,
   "metadata": {
    "collapsed": false
   },
   "outputs": [
    {
     "name": "stdout",
     "output_type": "stream",
     "text": [
      "0.06 \n",
      "\n",
      "0  :  0.060274709163\n",
      "1  :  0.0854688114764\n",
      "2  :  0.0614994643528\n",
      "3  :  0.0534027397929\n",
      "4  :  0.0584448406017\n",
      "5  :  0.0598792150981\n",
      "6  :  0.0546314049678\n",
      "7  :  0.0554310832361\n",
      "8  :  0.0523836278402\n",
      "9  :  0.059723593714\n"
     ]
    }
   ],
   "source": [
    "#calculating the simple euclidean distance\n",
    "print round(np.sqrt(sum((normalized_test_matrix[0] - normalized_train_matrix[9])**2)),3), \"\\n\"\n",
    "\n",
    "for i in range(10):\n",
    "    euclidean_dist = np.sqrt(sum((normalized_test_matrix[0] - normalized_train_matrix[i])**2))\n",
    "    print i, \" : \", euclidean_dist"
   ]
  },
  {
   "cell_type": "markdown",
   "metadata": {},
   "source": [
    "### vector operations instead of loops"
   ]
  },
  {
   "cell_type": "code",
   "execution_count": 25,
   "metadata": {
    "collapsed": false
   },
   "outputs": [
    {
     "name": "stdout",
     "output_type": "stream",
     "text": [
      "[ 0.  0.  0.  0.  0.  0.  0.  0.  0.  0.  0.  0.  0.  0.  0.  0.  0.  0.]\n",
      "[ 0.  0.  0.  0.  0.  0.  0.  0.  0.  0.  0.  0.  0.  0.  0.  0.  0.  0.]\n",
      "[ 0.  0.  0.  0.  0.  0.  0.  0.  0.  0.  0.  0.  0.  0.  0.  0.  0.  0.]\n"
     ]
    }
   ],
   "source": [
    "#vectorization test\n",
    "\n",
    "# verify that vectorization works\n",
    "results = normalized_train_matrix[0:3] - normalized_test_matrix[0]\n",
    "print results[0] - (normalized_train_matrix[0]-normalized_test_matrix[0])\n",
    "# should print all 0's if results[0] == (features_train[0]-features_test[0])\n",
    "print results[1] - (normalized_train_matrix[1]-normalized_test_matrix[0])\n",
    "# should print all 0's if results[1] == (features_train[1]-features_test[0])\n",
    "print results[2] - (normalized_train_matrix[2]-normalized_test_matrix[0])\n",
    "# should print all 0's if results[2] == (features_train[2]-features_test[0])"
   ]
  },
  {
   "cell_type": "code",
   "execution_count": 119,
   "metadata": {
    "collapsed": false
   },
   "outputs": [
    {
     "name": "stdout",
     "output_type": "stream",
     "text": [
      "-0.0934339987465\n",
      "True\n",
      "0.0237082324167\n"
     ]
    }
   ],
   "source": [
    "#testing purposes\n",
    "query_house = normalized_test_matrix[0]\n",
    "diff = normalized_train_matrix - query_house\n",
    "print diff[-1].sum()\n",
    "print sum(diff[15]**2) == np.sum(diff**2, axis=1)[15]\n",
    "\n",
    "distance = np.sqrt(np.sum(diff**2, axis=1))\n",
    "print distance[100]"
   ]
  },
  {
   "cell_type": "markdown",
   "metadata": {},
   "source": [
    "## 1-nearest neighbor"
   ]
  },
  {
   "cell_type": "code",
   "execution_count": 69,
   "metadata": {
    "collapsed": false
   },
   "outputs": [
    {
     "name": "stdout",
     "output_type": "stream",
     "text": [
      "[382]\n",
      "249000.0\n",
      "438000.0\n"
     ]
    }
   ],
   "source": [
    "#function to compute distances from a query house to all training houses\n",
    "\n",
    "def compute_distance(features_matrix, query_vector):\n",
    "    difference = features_matrix - query_vector\n",
    "    euclidean_distance = np.sqrt(np.sum(difference**2, axis=1))\n",
    "    return euclidean_distance\n",
    "\n",
    "all_distances = compute_distance(normalized_train_matrix, normalized_test_matrix[2])\n",
    "\n",
    "print np.where(all_distances == all_distances.min())[0]\n",
    "\n",
    "print train['price'][382]\n",
    "print test['price'][2]"
   ]
  },
  {
   "cell_type": "markdown",
   "metadata": {},
   "source": [
    "## k-nearest neighbor"
   ]
  },
  {
   "cell_type": "code",
   "execution_count": 73,
   "metadata": {
    "collapsed": false
   },
   "outputs": [
    {
     "name": "stdout",
     "output_type": "stream",
     "text": [
      "[ 382 1149 4087 3142]\n",
      "249000.0\n",
      "477000.0\n",
      "499950.0\n",
      "430000.0\n"
     ]
    }
   ],
   "source": [
    "#k-nearest neighbors regression\n",
    "\n",
    "def k_nearest_neighb(k, features_matrix, query_vector):\n",
    "    distances = compute_distance(features_matrix, query_vector)\n",
    "    sorted_indices = np.argsort(distances, kind='quicksort')\n",
    "    return sorted_indices[0:k]\n",
    "\n",
    "nearest_4_indices = k_nearest_neighb(4, normalized_train_matrix, normalized_test_matrix[2])\n",
    "print nearest_4_indices\n",
    "\n",
    "for i in nearest_4_indices:\n",
    "    print train['price'][i]"
   ]
  },
  {
   "cell_type": "markdown",
   "metadata": {},
   "source": [
    "## simple averaging method for prediction in k nearest neighbor"
   ]
  },
  {
   "cell_type": "code",
   "execution_count": 82,
   "metadata": {
    "collapsed": false
   },
   "outputs": [
    {
     "data": {
      "text/plain": [
       "413987.5"
      ]
     },
     "execution_count": 82,
     "metadata": {},
     "output_type": "execute_result"
    }
   ],
   "source": [
    "#simple averaging method for prediction of houses\n",
    "def predict_output_of_query(k, features_train, output_train, query_vector):\n",
    "    k_nearest_indices = k_nearest_neighb(k, features_train, query_vector)\n",
    "    k_nearest_avg_price = np.mean(output_train[k_nearest_indices])\n",
    "    return k_nearest_avg_price\n",
    "\n",
    "predict_output_of_query(4, normalized_train_matrix, train['price'], normalized_test_matrix[2])"
   ]
  },
  {
   "cell_type": "code",
   "execution_count": 103,
   "metadata": {
    "collapsed": false
   },
   "outputs": [
    {
     "data": {
      "text/plain": [
       "[881300.0,\n",
       " 431860.0,\n",
       " 460595.0,\n",
       " 430200.0,\n",
       " 766750.0,\n",
       " 667420.0,\n",
       " 350032.0,\n",
       " 512800.70000000001,\n",
       " 484000.0,\n",
       " 457235.0]"
      ]
     },
     "execution_count": 103,
     "metadata": {},
     "output_type": "execute_result"
    }
   ],
   "source": [
    "#predicting for multiple inputs at once\n",
    "def predict_multiple_queries(k, features_train, output_train, query_vector):\n",
    "    predictions = list()\n",
    "    for i in range(0, query_vector.shape[0]):\n",
    "        pred = predict_output_of_query(k, features_train, output_train, query_vector[i])\n",
    "        predictions.append(pred)\n",
    "    return predictions\n",
    "\n",
    "predict_multiple_queries(10,normalized_train_matrix, train['price'],normalized_test_matrix[0:10])"
   ]
  },
  {
   "cell_type": "markdown",
   "metadata": {},
   "source": [
    "## choosing the best k to use in knn"
   ]
  },
  {
   "cell_type": "code",
   "execution_count": 122,
   "metadata": {
    "collapsed": false
   },
   "outputs": [],
   "source": [
    "#function to calculate rss\n",
    "def calculate_rss(predictions, true_outputs):\n",
    "    residuals = predictions - true_outputs\n",
    "    rss = np.sum(residuals**2)\n",
    "    return rss\n",
    "\n",
    "#function to give a dictionary of k and corresponding rss values\n",
    "def choose_k_for_knn(k_set, features_train, output_train, query_vector, actual_output):\n",
    "    rss_dict = {}\n",
    "    for i in k_set:\n",
    "        my_predictions = predict_multiple_queries(i, features_train, output_train, query_vector)\n",
    "        my_rss = calculate_rss(my_predictions,actual_output)\n",
    "        rss_dict[i] = my_rss        \n",
    "    return rss_dict\n",
    "\n",
    "my_ks = [i for i in range(1,16)]\n",
    "my_rss_dict = choose_k_for_knn(my_ks,normalized_train_matrix,train['price'],normalized_valid_matrix, valid['price'])"
   ]
  },
  {
   "cell_type": "markdown",
   "metadata": {},
   "source": [
    "## plotting k vs corresponding rss values"
   ]
  },
  {
   "cell_type": "code",
   "execution_count": 126,
   "metadata": {
    "collapsed": false
   },
   "outputs": [
    {
     "data": {
      "image/png": "[encoded data removed]",
      "text/plain": [
       "<matplotlib.figure.Figure at 0x7f46454e5190>"
      ]
     },
     "metadata": {},
     "output_type": "display_data"
    }
   ],
   "source": [
    "import matplotlib.pyplot as plt\n",
    "%matplotlib inline\n",
    "\n",
    "plt.plot(my_ks, list(my_rss_dict.values()), 'bo-')\n",
    "plt.xlabel(\"values of k\")\n",
    "plt.ylabel(\"RSS values\")\n",
    "plt.grid(True)"
   ]
  },
  {
   "cell_type": "code",
   "execution_count": 121,
   "metadata": {
    "collapsed": false
   },
   "outputs": [
    {
     "name": "stdout",
     "output_type": "stream",
     "text": [
      "1.33E+14\n"
     ]
    }
   ],
   "source": [
    "#rss value on test data using the best value for k\n",
    "from decimal import Decimal\n",
    "\n",
    "my_test_rss_dict = choose_k_for_knn([8],normalized_train_matrix,train['price'],normalized_test_matrix, test['price'])\n",
    "print '%.2E' % Decimal(my_test_rss_dict[8])"
   ]
  }
 ],
 "metadata": {
  "kernelspec": {
   "display_name": "Python 2",
   "language": "python",
   "name": "python2"
  },
  "language_info": {
   "codemirror_mode": {
    "name": "ipython",
    "version": 2
   },
   "file_extension": ".py",
   "mimetype": "text/x-python",
   "name": "python",
   "nbconvert_exporter": "python",
   "pygments_lexer": "ipython2",
   "version": "2.7.13"
  }
 },
 "nbformat": 4,
 "nbformat_minor": 2
}
