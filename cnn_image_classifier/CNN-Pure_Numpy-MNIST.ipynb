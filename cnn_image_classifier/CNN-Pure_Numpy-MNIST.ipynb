{
 "cells": [
  {
   "cell_type": "markdown",
   "metadata": {},
   "source": [
    "### An implementation of CNN without using any Neural Network libraries\n",
    "The implementation consists of a single convolutional layer with tanh activation. <br>\n",
    "This is followed by a flattened layer which is then passed to a fully connected layer. <br>\n",
    "Finally the output is passed through a sigmoid activation layer and the loss used is binary cross entropy. <br>\n",
    "The implentation is tested on a small subset of the MNIST dataset with 2 classes"
   ]
  },
  {
   "cell_type": "code",
   "execution_count": 193,
   "metadata": {},
   "outputs": [],
   "source": [
    "import numpy as np\n",
    "import pandas as pd\n",
    "import matplotlib.pyplot as plt\n",
    "%matplotlib inline\n",
    "\n",
    "import skimage.data\n",
    "from skimage.transform import resize\n",
    "from skimage.color import rgb2gray\n",
    "\n",
    "from math import e\n",
    "from scipy import misc\n",
    "import os\n",
    "from tqdm import tqdm_notebook\n",
    "\n",
    "from sklearn.metrics import accuracy_score\n",
    "from sklearn.cross_validation import train_test_split"
   ]
  },
  {
   "cell_type": "markdown",
   "metadata": {},
   "source": [
    "### Read and Prepare the Data\n",
    "Take a small subset of the MNIST dataset with just 2 classes because the CNN implemented here is not very robust and currently only implemented for binary classification"
   ]
  },
  {
   "cell_type": "code",
   "execution_count": 262,
   "metadata": {},
   "outputs": [],
   "source": [
    "mnist = pd.read_csv('train.csv')"
   ]
  },
  {
   "cell_type": "code",
   "execution_count": 289,
   "metadata": {},
   "outputs": [],
   "source": [
    "mnist_binary = mnist[mnist['label'] == 0][0:2000].append(mnist[mnist['label'] == 1][0:2000]).reset_index(drop=True)"
   ]
  },
  {
   "cell_type": "code",
   "execution_count": 290,
   "metadata": {
    "collapsed": true,
    "jupyter": {
     "outputs_hidden": true
    }
   },
   "outputs": [],
   "source": [
    "mnist_labels = mnist_binary['label'].values\n",
    "mnist_labels = np.asarray([[i] for i in mnist_labels])\n",
    "mnist_data = mnist_binary.drop('label', axis=1).values"
   ]
  },
  {
   "cell_type": "code",
   "execution_count": 291,
   "metadata": {},
   "outputs": [],
   "source": [
    "mnist_data = np.asarray([np.reshape(i, (28,28)) for i in mnist_data])"
   ]
  },
  {
   "cell_type": "code",
   "execution_count": 292,
   "metadata": {},
   "outputs": [
    {
     "data": {
      "text/plain": [
       "<matplotlib.image.AxesImage at 0x154a19f28>"
      ]
     },
     "execution_count": 292,
     "metadata": {},
     "output_type": "execute_result"
    },
    {
     "data": {
      "image/png": "[encoded data removed]",
      "text/plain": [
       "<matplotlib.figure.Figure at 0x158d95668>"
      ]
     },
     "metadata": {},
     "output_type": "display_data"
    }
   ],
   "source": [
    "plt.imshow(mnist_data[0])"
   ]
  },
  {
   "cell_type": "code",
   "execution_count": 293,
   "metadata": {
    "collapsed": true,
    "jupyter": {
     "outputs_hidden": true
    }
   },
   "outputs": [],
   "source": [
    "train_images, test_images, train_labels, test_labels = train_test_split(mnist_data, mnist_labels, train_size=0.80, \n",
    "                                                                       stratify=mnist_labels)"
   ]
  },
  {
   "cell_type": "code",
   "execution_count": 294,
   "metadata": {
    "collapsed": true,
    "jupyter": {
     "outputs_hidden": true
    }
   },
   "outputs": [],
   "source": [
    "train_images_scaled = train_images/255.0\n",
    "test_images_scaled = test_images/255.0"
   ]
  },
  {
   "cell_type": "markdown",
   "metadata": {},
   "source": [
    "# CNN"
   ]
  },
  {
   "cell_type": "markdown",
   "metadata": {},
   "source": [
    " ### Function to perform the actual convolution operation along with activation"
   ]
  },
  {
   "cell_type": "code",
   "execution_count": 269,
   "metadata": {
    "collapsed": true,
    "jupyter": {
     "outputs_hidden": true
    }
   },
   "outputs": [],
   "source": [
    "def conv_operation(test_array, filt, filter_shape, activation=None):\n",
    "    conv_result = [[] for i in range((test_array.shape[0]-filter_shape)+1)]\n",
    "\n",
    "    for i in range(test_array.shape[0]):\n",
    "        for j in range(test_array.shape[1]):\n",
    "            if (i+filter_shape<=test_array.shape[0]) and (j+filter_shape<=test_array.shape[1]):\n",
    "                conv_val = np.sum(test_array[i:(i+filter_shape), j:(j+filter_shape)] * filt)\n",
    "                if activation == 'ReLU':\n",
    "                    if conv_val > 0:\n",
    "                        conv_result[i].append(conv_val)\n",
    "                    else:\n",
    "                        conv_result[i].append(0)\n",
    "                elif activation == 'tanh':\n",
    "                    tanh_val = ((e**conv_val) - (e**(-conv_val)))/((e**conv_val) + (e**(-conv_val)))\n",
    "                    conv_result[i].append(tanh_val)\n",
    "                else:\n",
    "                    conv_result[i].append(conv_val)\n",
    "                    \n",
    "    return np.asarray(conv_result)"
   ]
  },
  {
   "cell_type": "markdown",
   "metadata": {},
   "source": [
    "### Function to initialize filters to a random normal distribution"
   ]
  },
  {
   "cell_type": "code",
   "execution_count": 270,
   "metadata": {
    "collapsed": true,
    "jupyter": {
     "outputs_hidden": true
    }
   },
   "outputs": [],
   "source": [
    "def make_initial_filters(num, size):\n",
    "    return np.random.randn(num, size, size)"
   ]
  },
  {
   "cell_type": "markdown",
   "metadata": {},
   "source": [
    "### Function to create convolution block and generate feature maps using the conv_operation function"
   ]
  },
  {
   "cell_type": "code",
   "execution_count": 271,
   "metadata": {
    "collapsed": true,
    "jupyter": {
     "outputs_hidden": true
    }
   },
   "outputs": [],
   "source": [
    "def cnn2d_block(inp_array, filter_shape, filters, activation):\n",
    "    feature_maps = []\n",
    "    \n",
    "    for i in range(len(filters)):\n",
    "        feature_maps.append(conv_operation(inp_array, filters[i], filter_shape, activation))\n",
    "        \n",
    "    return np.asarray(feature_maps)"
   ]
  },
  {
   "cell_type": "markdown",
   "metadata": {},
   "source": [
    "### Activation Functions\n",
    "3 options: ReLU and tanh and sigmoid"
   ]
  },
  {
   "cell_type": "markdown",
   "metadata": {},
   "source": [
    "tanh"
   ]
  },
  {
   "cell_type": "code",
   "execution_count": 272,
   "metadata": {
    "collapsed": true,
    "jupyter": {
     "outputs_hidden": true
    }
   },
   "outputs": [],
   "source": [
    "def tanh_actv(feature_maps):\n",
    "    '''\n",
    "    hyperbolic tangent (tanh) activation function applied to all the feature maps\n",
    "    tanh(x) = ((e**x) - (e**(-x))) / ((e**x) + (e**(-x)))\n",
    "    '''\n",
    "    \n",
    "    tanh_f_maps = []\n",
    "    \n",
    "    for f_map in feature_maps:\n",
    "        multiple_rows = []\n",
    "        for i in f_map:\n",
    "            row = []\n",
    "            for j in i:\n",
    "                row.append(np.tanh(j))\n",
    "            multiple_rows.append(row)\n",
    "        tanh_f_maps.append(multiple_rows)\n",
    "        \n",
    "    return np.asarray(tanh_f_maps)"
   ]
  },
  {
   "cell_type": "code",
   "execution_count": 273,
   "metadata": {
    "collapsed": true,
    "jupyter": {
     "outputs_hidden": true
    }
   },
   "outputs": [],
   "source": [
    "def derivative_tanh_actv(feature_maps):\n",
    "    '''\n",
    "    derivative of the tanh activation function used during backpropagation\n",
    "    '''\n",
    "    derv_tanh_f_maps = []\n",
    "    \n",
    "    for f_map in feature_maps:\n",
    "        derv_tanh_f_maps.append(1 - np.tanh(f_map) ** 2)\n",
    "    \n",
    "    #print(derv_tanh_f_maps)\n",
    "    return np.asarray(derv_tanh_f_maps) "
   ]
  },
  {
   "cell_type": "markdown",
   "metadata": {},
   "source": [
    "ReLU"
   ]
  },
  {
   "cell_type": "code",
   "execution_count": 274,
   "metadata": {
    "collapsed": true,
    "jupyter": {
     "outputs_hidden": true
    }
   },
   "outputs": [],
   "source": [
    "def relu_actv(feature_maps):\n",
    "    '''\n",
    "    rectified linear units (ReLU) activation function applied to all feature maps\n",
    "    relu(x) = max(x, 0)\n",
    "    -> incomplete: derivative not implemented\n",
    "    '''\n",
    "    \n",
    "    relu_f_maps = []\n",
    "    \n",
    "    for f_map in feature_maps:\n",
    "        multiple_rows = []\n",
    "        for i in f_map:\n",
    "            row = []\n",
    "            for j in i:\n",
    "                row.append(np.max([j, 0]))\n",
    "            multiple_rows.append(row)\n",
    "        relu_f_maps.append(multiple_rows)\n",
    "        \n",
    "    return np.asarray(relu_f_maps)"
   ]
  },
  {
   "cell_type": "markdown",
   "metadata": {},
   "source": [
    "Sigmoid"
   ]
  },
  {
   "cell_type": "code",
   "execution_count": 275,
   "metadata": {
    "collapsed": true,
    "jupyter": {
     "outputs_hidden": true
    }
   },
   "outputs": [],
   "source": [
    "def sigmoid(dense_layer_output):\n",
    "    '''\n",
    "    Sigmoid Function\n",
    "    1 / (1+e^(-x))\n",
    "    '''\n",
    "    return 1/(1+(np.power(e, np.multiply(-1, dense_layer_output))))"
   ]
  },
  {
   "cell_type": "code",
   "execution_count": 276,
   "metadata": {
    "collapsed": true,
    "jupyter": {
     "outputs_hidden": true
    }
   },
   "outputs": [],
   "source": [
    "def derivative_sigmoid(dense_layer_output):\n",
    "    '''\n",
    "    Derivative Sigmoid\n",
    "    sigmoid * (1-sigmoid)\n",
    "    '''\n",
    "    sig = sigmoid(dense_layer_output)\n",
    "    return sig*(1-sig)"
   ]
  },
  {
   "cell_type": "markdown",
   "metadata": {},
   "source": [
    "### Flatten Input Layer"
   ]
  },
  {
   "cell_type": "code",
   "execution_count": 277,
   "metadata": {
    "collapsed": true,
    "jupyter": {
     "outputs_hidden": true
    }
   },
   "outputs": [],
   "source": [
    "def flatten(feature_maps):\n",
    "    return np.expand_dims(np.reshape(feature_maps,-1),axis=0)"
   ]
  },
  {
   "cell_type": "markdown",
   "metadata": {},
   "source": [
    "### Dense Layer"
   ]
  },
  {
   "cell_type": "code",
   "execution_count": 278,
   "metadata": {
    "collapsed": true,
    "jupyter": {
     "outputs_hidden": true
    }
   },
   "outputs": [],
   "source": [
    "def dense_layer(inp_arr, weights):\n",
    "    return inp_arr.dot(weights)"
   ]
  },
  {
   "cell_type": "markdown",
   "metadata": {},
   "source": [
    "### Binary Cross  Entropy cost function\n",
    "−( y * log(p) + (1−y)*log(1−p) )"
   ]
  },
  {
   "cell_type": "code",
   "execution_count": 279,
   "metadata": {
    "collapsed": true,
    "jupyter": {
     "outputs_hidden": true
    }
   },
   "outputs": [],
   "source": [
    "def binary_cross_entropy_cost(preds_proba, true):\n",
    "    first_term = true*np.log(preds_proba)\n",
    "    second_term = (1-true)*np.log(1-preds_proba)\n",
    "    return -(first_term + second_term)"
   ]
  },
  {
   "cell_type": "markdown",
   "metadata": {},
   "source": [
    "### Single Forward pass or Make Predictions"
   ]
  },
  {
   "cell_type": "code",
   "execution_count": 296,
   "metadata": {
    "collapsed": true,
    "jupyter": {
     "outputs_hidden": true
    }
   },
   "outputs": [],
   "source": [
    "def make_predictions(model, x_data):\n",
    "    results = {'preds': []}\n",
    "    for i in range(len(x_data)):\n",
    "        c1 = cnn2d_block(x_data[i], model['f'][0].shape[2], model['f'][0], None)\n",
    "        c1_tanh = tanh_actv(c1)\n",
    "        f1 = flatten(c1_tanh)\n",
    "        d1 = dense_layer(f1, model['w'][0])\n",
    "        preds_sigmoid = sigmoid(d1)\n",
    "        results['preds'].append(float(np.squeeze(preds_sigmoid > 0.5)))\n",
    "    return results"
   ]
  },
  {
   "cell_type": "markdown",
   "metadata": {},
   "source": [
    "### Forward Pass, Backward Pass, Training\n",
    "This is the most important part of the whole implementation"
   ]
  },
  {
   "cell_type": "code",
   "execution_count": 281,
   "metadata": {
    "collapsed": true,
    "jupyter": {
     "outputs_hidden": true
    }
   },
   "outputs": [],
   "source": [
    "def cnn_train(x_data, true_y, model, learning_rate, epochs):\n",
    "        accuracy_dict = {}\n",
    "        costs_dict = {}\n",
    "        \n",
    "        for epo in tqdm_notebook(range(epochs)):\n",
    "            print('Epoch: ', epo, end=\"\\n\")\n",
    "            \n",
    "            preds = []\n",
    "            costs = []\n",
    "            \n",
    "            for i in range(len(x_data)):\n",
    "                '''\n",
    "                FORWARD PASS\n",
    "                '''\n",
    "                c1 = cnn2d_block(x_data[i], model['f'][0].shape[2], model['f'][0], None) #convolution opration\n",
    "                c1_shape = c1.shape[1] #store shape to use later in backward pass\n",
    "                c1_tanh = tanh_actv(c1) #tanh activation\n",
    "                f1 = flatten(c1_tanh) #flatten to pass to fc layer\n",
    "                d1 = dense_layer(f1, model['w'][0]) #fc layer\n",
    "                preds_sigmoid = sigmoid(d1) #pass the output of the fc layer through sigmoid activation\n",
    "                \n",
    "                #store the predictions to calculate accuracy after each epoch\n",
    "                preds.append(float(np.squeeze(preds_sigmoid > 0.5)))\n",
    "                \n",
    "                \n",
    "                '''\n",
    "                BINARY CROSS ENTROPY COST\n",
    "                '''\n",
    "                cost = binary_cross_entropy_cost(preds_sigmoid, true_y[i])\n",
    "                \n",
    "                #store the costs for each iteration\n",
    "                costs.append(float(np.squeeze(cost)))\n",
    "            \n",
    "                \n",
    "                '''\n",
    "                BACK PROPAGATION\n",
    "                '''\n",
    "                gradient1_1 = preds_sigmoid - true_y[i] #derivative of loss\n",
    "                gradient1_2 = derivative_sigmoid(d1) #derivative of sigmoid\n",
    "                #dot product of flattened layer with the loss dervative\n",
    "                #weights of the last fully connected layer will be updated based on this\n",
    "                gradient1 = f1.T.dot(gradient1_1*gradient1_2) \n",
    "            \n",
    "                gradient2_1 = (gradient1_1).dot(model['w'][0].T)\n",
    "                gradient2_2 = x_data[i]\n",
    "                gradient2_3 = derivative_tanh_actv(c1) #derivative of tanh layer\n",
    "                \n",
    "                #gradient of a convolution layer can be represented as a fully convolution operation\n",
    "                #a fully convolution operation is slightly altered kind of convolution involving some roations\n",
    "                # https://medium.com/@2017csm1006/forward-and-backpropagation-in-convolutional-neural-network-4dfa96d7b37e\n",
    "                gradient2_1_reshape = np.reshape(gradient2_1, (c1_shape,c1_shape))\n",
    "                gradient2_temp = gradient2_1_reshape*gradient2_3[0]\n",
    "                gradient2 = np.rot90(conv_operation(gradient2_2, np.rot90(gradient2_temp, 2), \n",
    "                                                    gradient2_temp.shape[0], None), 2)\n",
    "            \n",
    "            \n",
    "                '''\n",
    "                STOCHASTIC GRADIENT DESCENT\n",
    "                Updating the gradients for each data point\n",
    "                Faster learning but more unstable\n",
    "                '''\n",
    "                model['f'][0] = model['f'][0] - (gradient2*learning_rate)\n",
    "                model['w'][0] = model['w'][0] - (gradient1*learning_rate)\n",
    "                \n",
    "            \n",
    "            accuracy = accuracy_score(preds, true_y.flatten())\n",
    "            accuracy_dict[epo] = accuracy\n",
    "            costs_dict[epo] = costs\n",
    "                \n",
    "            print(\"Training Accuracy: \", accuracy)\n",
    "            print(\"========\"*12, end=\"\\n\\n\\n\")\n",
    "            \n",
    "        return accuracy_dict, costs_dict"
   ]
  },
  {
   "cell_type": "markdown",
   "metadata": {},
   "source": [
    "### Initialize the weights to random normal distributions before training"
   ]
  },
  {
   "cell_type": "code",
   "execution_count": 305,
   "metadata": {},
   "outputs": [],
   "source": [
    "#dense layer weights and filters initialized\n",
    "filters = make_initial_filters(1, 3)*2\n",
    "w1_shape = (train_images_scaled.shape[1]-filters.shape[1]) + 1\n",
    "w1 = np.random.randn(w1_shape**2,1) *2\n",
    "\n",
    "model = {\n",
    "    'f' : [filters],\n",
    "    'w' : [w1]\n",
    "}"
   ]
  },
  {
   "cell_type": "markdown",
   "metadata": {},
   "source": [
    "Make predictions with the random weights just to check"
   ]
  },
  {
   "cell_type": "code",
   "execution_count": 306,
   "metadata": {},
   "outputs": [
    {
     "data": {
      "text/plain": [
       "49.90625"
      ]
     },
     "execution_count": 306,
     "metadata": {},
     "output_type": "execute_result"
    }
   ],
   "source": [
    "predictions_with_random_weights = make_predictions(model, train_images_scaled)\n",
    "accuracy_score(predictions_with_random_weights['preds'], train_labels.flatten()) * 100 "
   ]
  },
  {
   "cell_type": "markdown",
   "metadata": {},
   "source": [
    "### Training the model"
   ]
  },
  {
   "cell_type": "code",
   "execution_count": 307,
   "metadata": {
    "scrolled": true
   },
   "outputs": [
    {
     "data": {
      "application/vnd.jupyter.widget-view+json": {
       "model_id": "bfd7376132d645ac84b3f70656f28f1b"
      }
     },
     "metadata": {},
     "output_type": "display_data"
    },
    {
     "name": "stdout",
     "output_type": "stream",
     "text": [
      "Epoch:  0\n"
     ]
    },
    {
     "name": "stderr",
     "output_type": "stream",
     "text": [
      "/Users/franklemuchahary/anaconda/lib/python3.6/site-packages/ipykernel_launcher.py:3: RuntimeWarning: divide by zero encountered in log\n",
      "  This is separate from the ipykernel package so we can avoid doing imports until\n",
      "/Users/franklemuchahary/anaconda/lib/python3.6/site-packages/ipykernel_launcher.py:3: RuntimeWarning: invalid value encountered in multiply\n",
      "  This is separate from the ipykernel package so we can avoid doing imports until\n"
     ]
    },
    {
     "name": "stdout",
     "output_type": "stream",
     "text": [
      "Training Accuracy:  0.875\n",
      "================================================================================================\n",
      "\n",
      "\n",
      "Epoch:  1\n",
      "Training Accuracy:  0.9478125\n",
      "================================================================================================\n",
      "\n",
      "\n",
      "Epoch:  2\n",
      "Training Accuracy:  0.9740625\n",
      "================================================================================================\n",
      "\n",
      "\n",
      "Epoch:  3\n",
      "Training Accuracy:  0.9809375\n",
      "================================================================================================\n",
      "\n",
      "\n",
      "Epoch:  4\n",
      "Training Accuracy:  0.9865625\n",
      "================================================================================================\n",
      "\n",
      "\n"
     ]
    }
   ],
   "source": [
    "accuracy_history, costs_history = cnn_train(train_images_scaled, train_labels, model, learning_rate = 0.1, epochs=5)"
   ]
  },
  {
   "cell_type": "markdown",
   "metadata": {},
   "source": [
    "#### Plot how accuracy on the training set changed during training"
   ]
  },
  {
   "cell_type": "code",
   "execution_count": 308,
   "metadata": {},
   "outputs": [
    {
     "data": {
      "image/png": "[encoded data removed]",
      "text/plain": [
       "<matplotlib.figure.Figure at 0x154904898>"
      ]
     },
     "metadata": {},
     "output_type": "display_data"
    }
   ],
   "source": [
    "plt.plot(list(accuracy_history.keys()), list(accuracy_history.values()))\n",
    "plt.xlabel(\"Epochs\")\n",
    "plt.ylabel(\"Accuracy Score\")\n",
    "plt.show()"
   ]
  },
  {
   "cell_type": "markdown",
   "metadata": {},
   "source": [
    "### Predictions on TEST SET"
   ]
  },
  {
   "cell_type": "code",
   "execution_count": 309,
   "metadata": {},
   "outputs": [],
   "source": [
    "test_preds = make_predictions(model, test_images_scaled)"
   ]
  },
  {
   "cell_type": "code",
   "execution_count": 310,
   "metadata": {},
   "outputs": [
    {
     "data": {
      "text/plain": [
       "97.75"
      ]
     },
     "execution_count": 310,
     "metadata": {},
     "output_type": "execute_result"
    }
   ],
   "source": [
    "accuracy_score(test_preds['preds'], test_labels.flatten()) * 100 "
   ]
  }
 ],
 "metadata": {
  "kernelspec": {
   "display_name": "Python 3",
   "language": "python",
   "name": "python3"
  },
  "language_info": {
   "codemirror_mode": {
    "name": "ipython",
    "version": 3
   },
   "file_extension": ".py",
   "mimetype": "text/x-python",
   "name": "python",
   "nbconvert_exporter": "python",
   "pygments_lexer": "ipython3",
   "version": "3.8.2"
  }
 },
 "nbformat": 4,
 "nbformat_minor": 4
}
